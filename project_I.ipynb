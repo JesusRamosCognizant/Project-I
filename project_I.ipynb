{
 "cells": [
  {
   "cell_type": "code",
   "execution_count": null,
   "metadata": {},
   "outputs": [],
   "source": [
    "import pandas as pd"
   ]
  },
  {
   "cell_type": "code",
   "execution_count": null,
   "metadata": {},
   "outputs": [],
   "source": [
    "# load the dataset\n",
    "music_data = pd.read_csv('musicdata.csv')\n",
    "print(music_data.head())"
   ]
  },
  {
   "cell_type": "code",
   "execution_count": null,
   "metadata": {},
   "outputs": [],
   "source": [
    "music_data.info()"
   ]
  },
  {
   "cell_type": "code",
   "execution_count": null,
   "metadata": {},
   "outputs": [],
   "source": [
    "print(music_data.describe())"
   ]
  },
  {
   "cell_type": "code",
   "execution_count": null,
   "metadata": {},
   "outputs": [],
   "source": [
    "music_data.isnull().sum()"
   ]
  },
  {
   "cell_type": "code",
   "execution_count": null,
   "metadata": {},
   "outputs": [],
   "source": [
    "# dropping the 'Unnamed: 0' column\n",
    "music_data_cleaned = music_data.drop(columns=['Unnamed: 0'])\n",
    "\n",
    "# handling missing values by filling them with placeholder text\n",
    "columns_with_missing_values = ['Track Name', 'Artists', 'Album Name']\n",
    "music_data_cleaned[columns_with_missing_values] = music_data_cleaned[columns_with_missing_values].fillna('Unknown')"
   ]
  },
  {
   "cell_type": "code",
   "execution_count": null,
   "metadata": {},
   "outputs": [],
   "source": [
    "unique_counts = music_data_cleaned[['Artists','Popularity','Explicit','Key','Loudness','Energy','Tempo']].nunique()\n",
    "unique_counts"
   ]
  },
  {
   "cell_type": "code",
   "execution_count": null,
   "metadata": {},
   "outputs": [],
   "source": [
    "music_data_cleaned.groupby('Explicit')[['Track ID']].nunique()"
   ]
  },
  {
   "cell_type": "code",
   "execution_count": null,
   "metadata": {},
   "outputs": [],
   "source": [
    "pip install seaborn"
   ]
  },
  {
   "cell_type": "code",
   "execution_count": null,
   "metadata": {},
   "outputs": [],
   "source": [
    "import matplotlib.pyplot as plt\n",
    "import seaborn as sns\n",
    "sns.set(style=\"whitegrid\")"
   ]
  },
  {
   "cell_type": "code",
   "execution_count": null,
   "metadata": {},
   "outputs": [],
   "source": [
    "plt.figure(figsize=(10, 6))\n",
    "ax = unique_counts.plot(kind='bar', color='skyblue')\n",
    "\n",
    "# Title and labels\n",
    "style = {'fontsize':14, 'fontweight':'bold'}\n",
    "plt.title('Number of Unique Elements per feature', fontdict = {'fontsize':14, 'fontweight':'bold'})\n",
    "plt.xlabel('Features',fontdict = style)\n",
    "plt.ylabel('Nº of Unique Elements', fontdict = style)\n",
    "plt.xticks(rotation=0)\n",
    "\n",
    "# Show value over columns\n",
    "for bar in ax.patches:\n",
    "    height = bar.get_height()\n",
    "    ax.annotate(f'{height}',\n",
    "                xy=(bar.get_x() + bar.get_width() / 2, height),\n",
    "                xytext=(0, 3),  # 3 points vertical offset\n",
    "                textcoords=\"offset points\",\n",
    "                ha='center', va='bottom')\n",
    "plt.show()"
   ]
  },
  {
   "cell_type": "code",
   "execution_count": null,
   "metadata": {},
   "outputs": [],
   "source": [
    "plt.figure(figsize=(12, 10))\n",
    "correlation_matrix = music_data_cleaned.select_dtypes(include=['float64', 'int64']).corr()\n",
    "sns.heatmap(correlation_matrix, annot=True, cmap='coolwarm', fmt=\".2f\")\n",
    "plt.title('Correlation Matrix of Numerical Features')\n",
    "plt.show()"
   ]
  },
  {
   "cell_type": "code",
   "execution_count": null,
   "metadata": {},
   "outputs": [],
   "source": [
    "# creating scatter plots for various features vs. popularity\n",
    "features = ['Danceability', 'Energy', 'Loudness', 'Acousticness', 'Valence']\n",
    "plt.figure(figsize=(15, 10))\n",
    "\n",
    "for i, feature in enumerate(features, 1):\n",
    "    plt.subplot(2, 3, i)\n",
    "    sns.scatterplot(x=music_data_cleaned[feature], y=music_data_cleaned['Popularity'])\n",
    "    plt.title(f'{feature} vs. Popularity')\n",
    "    plt.xlabel(feature)\n",
    "    plt.ylabel('Popularity')\n",
    "\n",
    "plt.tight_layout()\n",
    "plt.show()"
   ]
  },
  {
   "cell_type": "code",
   "execution_count": null,
   "metadata": {},
   "outputs": [],
   "source": [
    "# creating plots for danceability vs. popularity and energy vs. popularity, segmented by explicit content\n",
    "plt.figure(figsize=(14, 7))\n",
    "\n",
    "# danceability vs. popularity\n",
    "plt.subplot(1, 2, 1)\n",
    "sns.scatterplot(x='Danceability', y='Popularity', hue='Explicit', data=music_data_cleaned, palette='Set1')\n",
    "plt.title('Danceability vs. Popularity (by Explicit Content)')\n",
    "plt.xlabel('Danceability')\n",
    "plt.ylabel('Popularity')\n",
    "\n",
    "# energy vs. popularity\n",
    "plt.subplot(1, 2, 2)\n",
    "sns.scatterplot(x='Energy', y='Popularity', hue='Explicit', data=music_data_cleaned, palette='Set1')\n",
    "plt.title('Energy vs. Popularity (by Explicit Content)')\n",
    "plt.xlabel('Energy')\n",
    "plt.ylabel('Popularity')\n",
    "\n",
    "plt.tight_layout()\n",
    "plt.show()"
   ]
  },
  {
   "cell_type": "code",
   "execution_count": null,
   "metadata": {},
   "outputs": [],
   "source": [
    "from sklearn.model_selection import train_test_split\n",
    "from sklearn.linear_model import LinearRegression\n",
    "from sklearn.metrics import mean_squared_error, r2_score\n",
    "from sklearn.preprocessing import StandardScaler"
   ]
  },
  {
   "cell_type": "code",
   "execution_count": null,
   "metadata": {},
   "outputs": [],
   "source": [
    "# preparing the dataset for regression\n",
    "# convert 'Explicit' from boolean to integer (0 or 1)\n",
    "music_data_cleaned['Explicit'] = music_data_cleaned['Explicit'].astype(int)\n",
    "\n",
    "# selecting features and target for the model\n",
    "features = ['Danceability', 'Energy', 'Loudness', 'Acousticness', 'Valence', 'Explicit', 'Key', 'Mode', 'Speechiness', 'Instrumentalness', 'Tempo']\n",
    "X = music_data_cleaned[features]\n",
    "y = music_data_cleaned['Popularity']\n",
    "\n",
    "# standardizing the features\n",
    "scaler = StandardScaler()\n",
    "X_scaled = scaler.fit_transform(X)\n",
    "\n",
    "# splitting the dataset into training and testing sets\n",
    "X_train, X_test, y_train, y_test = train_test_split(X_scaled, y, test_size=0.2, random_state=42)\n",
    "\n",
    "# initializing and training the linear regression model\n",
    "model = LinearRegression()\n",
    "model.fit(X_train, y_train)\n",
    "\n",
    "# predicting on the test set\n",
    "y_pred = model.predict(X_test)\n",
    "\n",
    "# evaluating the model\n",
    "mse = mean_squared_error(y_test, y_pred)\n",
    "r2 = r2_score(y_test, y_pred)\n",
    "print(r2)\n",
    "# outputting the coefficients and performance metrics\n",
    "coefficients = pd.Series(model.coef_, index=features)\n",
    "coefficients"
   ]
  }
 ],
 "metadata": {
  "kernelspec": {
   "display_name": "Python 3",
   "language": "python",
   "name": "python3"
  },
  "language_info": {
   "codemirror_mode": {
    "name": "ipython",
    "version": 3
   },
   "file_extension": ".py",
   "mimetype": "text/x-python",
   "name": "python",
   "nbconvert_exporter": "python",
   "pygments_lexer": "ipython3",
   "version": "3.10.10"
  }
 },
 "nbformat": 4,
 "nbformat_minor": 4
}
